{
 "cells": [
  {
   "cell_type": "markdown",
   "metadata": {},
   "source": [
    "### Note\n",
    "* Instructions have been included for each segment. You do not have to follow them exactly, but they are included to help you think through the steps."
   ]
  },
  {
   "cell_type": "code",
   "execution_count": 58,
   "metadata": {},
   "outputs": [
    {
     "output_type": "execute_result",
     "data": {
      "text/plain": [
       "   Purchase ID             SN  Age Gender  Item ID  \\\n",
       "0            0        Lisim78   20   Male      108   \n",
       "1            1    Lisovynya38   40   Male      143   \n",
       "2            2     Ithergue48   24   Male       92   \n",
       "3            3  Chamassasya86   24   Male      100   \n",
       "4            4      Iskosia90   23   Male      131   \n",
       "\n",
       "                                   Item Name  Price  \n",
       "0  Extraction, Quickblade Of Trembling Hands   3.53  \n",
       "1                          Frenzied Scimitar   1.56  \n",
       "2                               Final Critic   4.88  \n",
       "3                                Blindscythe   3.27  \n",
       "4                                       Fury   1.44  "
      ],
      "text/html": "<div>\n<style scoped>\n    .dataframe tbody tr th:only-of-type {\n        vertical-align: middle;\n    }\n\n    .dataframe tbody tr th {\n        vertical-align: top;\n    }\n\n    .dataframe thead th {\n        text-align: right;\n    }\n</style>\n<table border=\"1\" class=\"dataframe\">\n  <thead>\n    <tr style=\"text-align: right;\">\n      <th></th>\n      <th>Purchase ID</th>\n      <th>SN</th>\n      <th>Age</th>\n      <th>Gender</th>\n      <th>Item ID</th>\n      <th>Item Name</th>\n      <th>Price</th>\n    </tr>\n  </thead>\n  <tbody>\n    <tr>\n      <th>0</th>\n      <td>0</td>\n      <td>Lisim78</td>\n      <td>20</td>\n      <td>Male</td>\n      <td>108</td>\n      <td>Extraction, Quickblade Of Trembling Hands</td>\n      <td>3.53</td>\n    </tr>\n    <tr>\n      <th>1</th>\n      <td>1</td>\n      <td>Lisovynya38</td>\n      <td>40</td>\n      <td>Male</td>\n      <td>143</td>\n      <td>Frenzied Scimitar</td>\n      <td>1.56</td>\n    </tr>\n    <tr>\n      <th>2</th>\n      <td>2</td>\n      <td>Ithergue48</td>\n      <td>24</td>\n      <td>Male</td>\n      <td>92</td>\n      <td>Final Critic</td>\n      <td>4.88</td>\n    </tr>\n    <tr>\n      <th>3</th>\n      <td>3</td>\n      <td>Chamassasya86</td>\n      <td>24</td>\n      <td>Male</td>\n      <td>100</td>\n      <td>Blindscythe</td>\n      <td>3.27</td>\n    </tr>\n    <tr>\n      <th>4</th>\n      <td>4</td>\n      <td>Iskosia90</td>\n      <td>23</td>\n      <td>Male</td>\n      <td>131</td>\n      <td>Fury</td>\n      <td>1.44</td>\n    </tr>\n  </tbody>\n</table>\n</div>"
     },
     "metadata": {},
     "execution_count": 58
    }
   ],
   "source": [
    "# Dependencies and Setup\n",
    "import pandas as pd\n",
    "\n",
    "# File to Load (Remember to Change These)\n",
    "file_to_load = \"Resources/purchase_data.csv\"\n",
    "\n",
    "# Read Purchasing File and store into Pandas data frame\n",
    "purchase_data = pd.read_csv(file_to_load)\n",
    "purchase_data.head()"
   ]
  },
  {
   "cell_type": "markdown",
   "metadata": {},
   "source": [
    "## Player Count"
   ]
  },
  {
   "cell_type": "markdown",
   "metadata": {},
   "source": [
    "* Display the total number of players\n"
   ]
  },
  {
   "cell_type": "code",
   "execution_count": 59,
   "metadata": {},
   "outputs": [
    {
     "output_type": "execute_result",
     "data": {
      "text/plain": [
       "   Total Players\n",
       "0            576"
      ],
      "text/html": "<div>\n<style scoped>\n    .dataframe tbody tr th:only-of-type {\n        vertical-align: middle;\n    }\n\n    .dataframe tbody tr th {\n        vertical-align: top;\n    }\n\n    .dataframe thead th {\n        text-align: right;\n    }\n</style>\n<table border=\"1\" class=\"dataframe\">\n  <thead>\n    <tr style=\"text-align: right;\">\n      <th></th>\n      <th>Total Players</th>\n    </tr>\n  </thead>\n  <tbody>\n    <tr>\n      <th>0</th>\n      <td>576</td>\n    </tr>\n  </tbody>\n</table>\n</div>"
     },
     "metadata": {},
     "execution_count": 59
    }
   ],
   "source": [
    "total_players = len(purchase_data[\"SN\"].unique())\n",
    "\n",
    "players_df = pd.DataFrame({\n",
    "    \"Total Players\": [total_players]\n",
    "})\n",
    "\n",
    "players_df"
   ]
  },
  {
   "cell_type": "markdown",
   "metadata": {},
   "source": [
    "## Purchasing Analysis (Total)"
   ]
  },
  {
   "cell_type": "markdown",
   "metadata": {},
   "source": [
    "* Run basic calculations to obtain number of unique items, average price, etc.\n",
    "\n",
    "\n",
    "* Create a summary data frame to hold the results\n",
    "\n",
    "\n",
    "* Optional: give the displayed data cleaner formatting\n",
    "\n",
    "\n",
    "* Display the summary data frame\n"
   ]
  },
  {
   "cell_type": "code",
   "execution_count": 60,
   "metadata": {
    "scrolled": true
   },
   "outputs": [
    {
     "output_type": "execute_result",
     "data": {
      "text/plain": [
       "   Number of Unique Items Average Price  Number of Purchases Total Revenue\n",
       "0                     179         $3.05                  780     $2,379.77"
      ],
      "text/html": "<div>\n<style scoped>\n    .dataframe tbody tr th:only-of-type {\n        vertical-align: middle;\n    }\n\n    .dataframe tbody tr th {\n        vertical-align: top;\n    }\n\n    .dataframe thead th {\n        text-align: right;\n    }\n</style>\n<table border=\"1\" class=\"dataframe\">\n  <thead>\n    <tr style=\"text-align: right;\">\n      <th></th>\n      <th>Number of Unique Items</th>\n      <th>Average Price</th>\n      <th>Number of Purchases</th>\n      <th>Total Revenue</th>\n    </tr>\n  </thead>\n  <tbody>\n    <tr>\n      <th>0</th>\n      <td>179</td>\n      <td>$3.05</td>\n      <td>780</td>\n      <td>$2,379.77</td>\n    </tr>\n  </tbody>\n</table>\n</div>"
     },
     "metadata": {},
     "execution_count": 60
    }
   ],
   "source": [
    "unique_items = len(purchase_data[\"Item Name\"].unique())\n",
    "average_price = purchase_data[\"Price\"].mean()\n",
    "number_of_purchases = purchase_data[\"Purchase ID\"].count()\n",
    "total_revenue = purchase_data[\"Price\"].sum()\n",
    "\n",
    "item_summary_df = pd.DataFrame({\n",
    "    \"Number of Unique Items\": [unique_items],\n",
    "    \"Average Price\": [average_price],\n",
    "    \"Number of Purchases\": [number_of_purchases],\n",
    "    \"Total Revenue\": [total_revenue]\n",
    "})\n",
    "\n",
    "item_summary_df[\"Average Price\"] = item_summary_df[\"Average Price\"].astype(float).map(\"${:,.2f}\".format)\n",
    "item_summary_df[\"Total Revenue\"] = item_summary_df[\"Total Revenue\"].astype(float).map(\"${:,.2f}\".format)\n",
    "\n",
    "item_summary_df"
   ]
  },
  {
   "cell_type": "markdown",
   "metadata": {},
   "source": [
    "## Gender Demographics"
   ]
  },
  {
   "cell_type": "markdown",
   "metadata": {},
   "source": [
    "* Percentage and Count of Male Players\n",
    "\n",
    "\n",
    "* Percentage and Count of Female Players\n",
    "\n",
    "\n",
    "* Percentage and Count of Other / Non-Disclosed\n",
    "\n",
    "\n"
   ]
  },
  {
   "cell_type": "code",
   "execution_count": 61,
   "metadata": {},
   "outputs": [
    {
     "output_type": "execute_result",
     "data": {
      "text/plain": [
       "                       Total Count Percentage of Players\n",
       "Male                           484                84.03%\n",
       "Female                          81                14.06%\n",
       "Other / Non-Disclosed           11                 1.91%"
      ],
      "text/html": "<div>\n<style scoped>\n    .dataframe tbody tr th:only-of-type {\n        vertical-align: middle;\n    }\n\n    .dataframe tbody tr th {\n        vertical-align: top;\n    }\n\n    .dataframe thead th {\n        text-align: right;\n    }\n</style>\n<table border=\"1\" class=\"dataframe\">\n  <thead>\n    <tr style=\"text-align: right;\">\n      <th></th>\n      <th>Total Count</th>\n      <th>Percentage of Players</th>\n    </tr>\n  </thead>\n  <tbody>\n    <tr>\n      <th>Male</th>\n      <td>484</td>\n      <td>84.03%</td>\n    </tr>\n    <tr>\n      <th>Female</th>\n      <td>81</td>\n      <td>14.06%</td>\n    </tr>\n    <tr>\n      <th>Other / Non-Disclosed</th>\n      <td>11</td>\n      <td>1.91%</td>\n    </tr>\n  </tbody>\n</table>\n</div>"
     },
     "metadata": {},
     "execution_count": 61
    }
   ],
   "source": [
    "male_only_df = purchase_data.loc[purchase_data[\"Gender\"] == \"Male\"]\n",
    "male_amount = len(male_only_df[\"SN\"].unique())\n",
    "male_percentage = male_amount / total_players * 100\n",
    "\n",
    "female_only_df = purchase_data.loc[purchase_data[\"Gender\"] == \"Female\"]\n",
    "female_amount = len(female_only_df[\"SN\"].unique())\n",
    "female_percentage = female_amount / total_players * 100\n",
    "\n",
    "other_only_df = purchase_data.loc[purchase_data[\"Gender\"] == \"Other / Non-Disclosed\"]\n",
    "other_amount = len(other_only_df[\"SN\"].unique())\n",
    "other_percentage = other_amount / total_players * 100\n",
    "\n",
    "total_count = [male_amount, female_amount, other_amount]\n",
    "percentage_players = [male_percentage, female_percentage, other_percentage]\n",
    "\n",
    "data = {'Total Count': (total_count),\n",
    "'Percentage of Players': (percentage_players)}\n",
    "\n",
    "gender_summary_df = pd.DataFrame(data)\n",
    "\n",
    "gender_summary_df[\"Percentage of Players\"] = gender_summary_df[\"Percentage of Players\"].astype(float).map(\"{:,.2f}%\".format)\n",
    "\n",
    "gender_summary_df = gender_summary_df.rename(index={0: \"Male\", 1: \"Female\", 2: \"Other / Non-Disclosed\"})\n",
    "\n",
    "\n",
    "gender_summary_df"
   ]
  },
  {
   "cell_type": "markdown",
   "metadata": {},
   "source": [
    "\n",
    "## Purchasing Analysis (Gender)"
   ]
  },
  {
   "cell_type": "markdown",
   "metadata": {},
   "source": [
    "* Run basic calculations to obtain purchase count, avg. purchase price, avg. purchase total per person etc. by gender\n",
    "\n",
    "\n",
    "\n",
    "\n",
    "* Create a summary data frame to hold the results\n",
    "\n",
    "\n",
    "* Optional: give the displayed data cleaner formatting\n",
    "\n",
    "\n",
    "* Display the summary data frame"
   ]
  },
  {
   "cell_type": "code",
   "execution_count": 15,
   "metadata": {},
   "outputs": [
    {
     "output_type": "execute_result",
     "data": {
      "text/plain": [
       "                       Purchase Count Average Purchase Price  \\\n",
       "Gender                                                         \n",
       "Female                            113                  $3.20   \n",
       "Male                              652                  $3.02   \n",
       "Other / Non-Disclosed              15                  $3.35   \n",
       "\n",
       "                      Total Purchase Value Avg Total Purchase per Person  \n",
       "Gender                                                                    \n",
       "Female                             $361.94                         $4.47  \n",
       "Male                             $1,967.64                         $4.07  \n",
       "Other / Non-Disclosed               $50.19                         $4.56  "
      ],
      "text/html": "<div>\n<style scoped>\n    .dataframe tbody tr th:only-of-type {\n        vertical-align: middle;\n    }\n\n    .dataframe tbody tr th {\n        vertical-align: top;\n    }\n\n    .dataframe thead th {\n        text-align: right;\n    }\n</style>\n<table border=\"1\" class=\"dataframe\">\n  <thead>\n    <tr style=\"text-align: right;\">\n      <th></th>\n      <th>Purchase Count</th>\n      <th>Average Purchase Price</th>\n      <th>Total Purchase Value</th>\n      <th>Avg Total Purchase per Person</th>\n    </tr>\n    <tr>\n      <th>Gender</th>\n      <th></th>\n      <th></th>\n      <th></th>\n      <th></th>\n    </tr>\n  </thead>\n  <tbody>\n    <tr>\n      <th>Female</th>\n      <td>113</td>\n      <td>$3.20</td>\n      <td>$361.94</td>\n      <td>$4.47</td>\n    </tr>\n    <tr>\n      <th>Male</th>\n      <td>652</td>\n      <td>$3.02</td>\n      <td>$1,967.64</td>\n      <td>$4.07</td>\n    </tr>\n    <tr>\n      <th>Other / Non-Disclosed</th>\n      <td>15</td>\n      <td>$3.35</td>\n      <td>$50.19</td>\n      <td>$4.56</td>\n    </tr>\n  </tbody>\n</table>\n</div>"
     },
     "metadata": {},
     "execution_count": 15
    }
   ],
   "source": [
    "male_purchase_count = male_only_df[\"SN\"].count()\n",
    "female_purchase_count = female_only_df[\"SN\"].count()\n",
    "other_purchase_count = other_only_df[\"SN\"].count()\n",
    "\n",
    "male_average_price = male_only_df[\"Price\"].mean()\n",
    "female_average_price = female_only_df[\"Price\"].mean()\n",
    "other_average_price = other_only_df[\"Price\"].mean()\n",
    "\n",
    "male_total_purchase = male_only_df[\"Price\"].sum()\n",
    "female_total_purchase = female_only_df[\"Price\"].sum()\n",
    "other_total_purchase = other_only_df[\"Price\"].sum()\n",
    "\n",
    "male_avg_purchase_pp = male_total_purchase / male_amount\n",
    "female_avg_purchase_pp = female_total_purchase / female_amount\n",
    "other_avg_purchase_pp = other_total_purchase / other_amount\n",
    "\n",
    "purchase_count = [female_purchase_count, male_purchase_count, other_purchase_count]\n",
    "average_purchase_price = [female_average_price, male_average_price, other_average_price]\n",
    "total_purchase_value = [female_total_purchase, male_total_purchase, other_total_purchase]\n",
    "avg_total_purchase_pp = [female_avg_purchase_pp, male_avg_purchase_pp, other_avg_purchase_pp]\n",
    "\n",
    "gender_data = {'Purchase Count': (purchase_count),\n",
    "'Average Purchase Price': (average_purchase_price),\n",
    "'Total Purchase Value': (total_purchase_value),\n",
    "'Avg Total Purchase per Person': (avg_total_purchase_pp)}\n",
    "\n",
    "purchasing_gender_summary = pd.DataFrame(gender_data)\n",
    "\n",
    "purchasing_gender_summary = purchasing_gender_summary.rename(index={0: \"Female\", 1: \"Male\", 2: \"Other / Non-Disclosed\"})\n",
    "\n",
    "purchasing_gender_summary = purchasing_gender_summary.rename_axis('Gender')\n",
    "\n",
    "purchasing_gender_summary[\"Average Purchase Price\"] = purchasing_gender_summary[\"Average Purchase Price\"].astype(float).map(\"${:,.2f}\".format)\n",
    "purchasing_gender_summary[\"Total Purchase Value\"] = purchasing_gender_summary[\"Total Purchase Value\"].astype(float).map(\"${:,.2f}\".format)\n",
    "purchasing_gender_summary[\"Avg Total Purchase per Person\"] = purchasing_gender_summary[\"Avg Total Purchase per Person\"].astype(float).map(\"${:,.2f}\".format)\n",
    "\n",
    "purchasing_gender_summary"
   ]
  },
  {
   "cell_type": "markdown",
   "metadata": {},
   "source": [
    "## Age Demographics"
   ]
  },
  {
   "cell_type": "markdown",
   "metadata": {},
   "source": [
    "* Establish bins for ages\n",
    "\n",
    "\n",
    "* Categorize the existing players using the age bins. Hint: use pd.cut()\n",
    "\n",
    "\n",
    "* Calculate the numbers and percentages by age group\n",
    "\n",
    "\n",
    "* Create a summary data frame to hold the results\n",
    "\n",
    "\n",
    "* Optional: round the percentage column to two decimal points\n",
    "\n",
    "\n",
    "* Display Age Demographics Table\n"
   ]
  },
  {
   "cell_type": "code",
   "execution_count": 85,
   "metadata": {},
   "outputs": [
    {
     "output_type": "stream",
     "name": "stderr",
     "text": [
      "<ipython-input-85-13ccd582960e>:7: SettingWithCopyWarning: \nA value is trying to be set on a copy of a slice from a DataFrame.\nTry using .loc[row_indexer,col_indexer] = value instead\n\nSee the caveats in the documentation: https://pandas.pydata.org/pandas-docs/stable/user_guide/indexing.html#returning-a-view-versus-a-copy\n  nonduplicate_purchase_data[\"Age Group\"] = pd.cut(purchase_data[\"Age\"], bins, labels=group_labels)\n"
     ]
    },
    {
     "output_type": "execute_result",
     "data": {
      "text/plain": [
       "       Total Count Percentage of Players\n",
       "<10             17                 2.95%\n",
       "10-14           22                 3.82%\n",
       "15-19          107                18.58%\n",
       "20-24          258                44.79%\n",
       "25-29           77                13.37%\n",
       "30-34           52                 9.03%\n",
       "35-39           31                 5.38%\n",
       "40+             12                 2.08%"
      ],
      "text/html": "<div>\n<style scoped>\n    .dataframe tbody tr th:only-of-type {\n        vertical-align: middle;\n    }\n\n    .dataframe tbody tr th {\n        vertical-align: top;\n    }\n\n    .dataframe thead th {\n        text-align: right;\n    }\n</style>\n<table border=\"1\" class=\"dataframe\">\n  <thead>\n    <tr style=\"text-align: right;\">\n      <th></th>\n      <th>Total Count</th>\n      <th>Percentage of Players</th>\n    </tr>\n  </thead>\n  <tbody>\n    <tr>\n      <th>&lt;10</th>\n      <td>17</td>\n      <td>2.95%</td>\n    </tr>\n    <tr>\n      <th>10-14</th>\n      <td>22</td>\n      <td>3.82%</td>\n    </tr>\n    <tr>\n      <th>15-19</th>\n      <td>107</td>\n      <td>18.58%</td>\n    </tr>\n    <tr>\n      <th>20-24</th>\n      <td>258</td>\n      <td>44.79%</td>\n    </tr>\n    <tr>\n      <th>25-29</th>\n      <td>77</td>\n      <td>13.37%</td>\n    </tr>\n    <tr>\n      <th>30-34</th>\n      <td>52</td>\n      <td>9.03%</td>\n    </tr>\n    <tr>\n      <th>35-39</th>\n      <td>31</td>\n      <td>5.38%</td>\n    </tr>\n    <tr>\n      <th>40+</th>\n      <td>12</td>\n      <td>2.08%</td>\n    </tr>\n  </tbody>\n</table>\n</div>"
     },
     "metadata": {},
     "execution_count": 85
    }
   ],
   "source": [
    "bins = [0, 9, 14, 19, 24, 29, 34, 39, 49]\n",
    "\n",
    "group_labels = [\"<10\", \"10-14\", \"15-19\", \"20-24\", \"25-29\", \"30-34\", \"35-39\", \"40+\"]\n",
    "\n",
    "nonduplicate_purchase_data = purchase_data.drop_duplicates(subset=['SN'])\n",
    "\n",
    "nonduplicate_purchase_data[\"Age Group\"] = pd.cut(purchase_data[\"Age\"], bins, labels=group_labels)\n",
    "\n",
    "nonduplicate_purchase_age_group = nonduplicate_purchase_data.groupby(\"Age Group\")\n",
    "\n",
    "under_10_df = nonduplicate_purchase_data.loc[nonduplicate_purchase_data[\"Age Group\"] == \"<10\"]\n",
    "under_10_amount = len(under_10_df[\"SN\"])\n",
    "\n",
    "n10_14_df = nonduplicate_purchase_data.loc[nonduplicate_purchase_data[\"Age Group\"] == \"10-14\"]\n",
    "n10_14_amount = len(n10_14_df[\"SN\"])\n",
    "\n",
    "n15_19_df = nonduplicate_purchase_data.loc[nonduplicate_purchase_data[\"Age Group\"] == \"15-19\"]\n",
    "n15_19_amount = len(n15_19_df[\"SN\"])\n",
    "\n",
    "n20_24_df = nonduplicate_purchase_data.loc[nonduplicate_purchase_data[\"Age Group\"] == \"20-24\"]\n",
    "n20_24_amount = len(n20_24_df[\"SN\"])\n",
    "\n",
    "n25_29_df = nonduplicate_purchase_data.loc[nonduplicate_purchase_data[\"Age Group\"] == \"25-29\"]\n",
    "n25_29_amount = len(n25_29_df[\"SN\"])\n",
    "\n",
    "n30_34_df = nonduplicate_purchase_data.loc[nonduplicate_purchase_data[\"Age Group\"] == \"30-34\"]\n",
    "n30_34_amount = len(n30_34_df[\"SN\"])\n",
    "\n",
    "n35_39_df = nonduplicate_purchase_data.loc[nonduplicate_purchase_data[\"Age Group\"] == \"35-39\"]\n",
    "n35_39_amount = len(n35_39_df[\"SN\"])\n",
    "\n",
    "n40_df = nonduplicate_purchase_data.loc[nonduplicate_purchase_data[\"Age Group\"] == \"40+\"]\n",
    "n40_amount = len(n40_df[\"SN\"])\n",
    "\n",
    "total_count_bin = [under_10_amount, n10_14_amount, n15_19_amount, n20_24_amount, n25_29_amount, n30_34_amount, n35_39_amount, n40_amount]\n",
    "\n",
    "under_10_percentage = under_10_amount / sum(total_count_bin) * 100\n",
    "n10_14_percentage = n10_14_amount / sum(total_count_bin) * 100\n",
    "n15_19_percentage = n15_19_amount / sum(total_count_bin) * 100\n",
    "n20_24_percentage = n20_24_amount / sum(total_count_bin) * 100\n",
    "n25_29_percentage = n25_29_amount / sum(total_count_bin) * 100\n",
    "n30_34_percentage = n30_34_amount / sum(total_count_bin) * 100\n",
    "n35_39_percentage = n35_39_amount / sum(total_count_bin) * 100\n",
    "n40_percentage = n40_amount / sum(total_count_bin) * 100\n",
    "\n",
    "percentage_bin = [under_10_percentage, n10_14_percentage, n15_19_percentage, n20_24_percentage, n25_29_percentage, n30_34_percentage, n35_39_percentage, n40_percentage]\n",
    "\n",
    "data_age_demographics = {'Total Count': (total_count_bin),\n",
    "'Percentage of Players': (percentage_bin)}\n",
    "\n",
    "age_demographics_summary = pd.DataFrame(data_age_demographics)\n",
    "\n",
    "age_demographics_summary = age_demographics_summary.rename(index={0: \"<10\", 1: \"10-14\", 2: \"15-19\", 3: \"20-24\", 4: \"25-29\", 5: \"30-34\", 6: \"35-39\", 7: \"40+\"})\n",
    "\n",
    "age_demographics_summary[\"Percentage of Players\"] = age_demographics_summary[\"Percentage of Players\"].astype(float).map(\"{:,.2f}%\".format)\n",
    "\n",
    "\n",
    "\n",
    "age_demographics_summary\n",
    "\n",
    "\n",
    "\n",
    "\n",
    "\n",
    "\n"
   ]
  },
  {
   "cell_type": "markdown",
   "metadata": {},
   "source": [
    "## Purchasing Analysis (Age)"
   ]
  },
  {
   "cell_type": "markdown",
   "metadata": {},
   "source": [
    "* Bin the purchase_data data frame by age\n",
    "\n",
    "\n",
    "* Run basic calculations to obtain purchase count, avg. purchase price, avg. purchase total per person etc. in the table below\n",
    "\n",
    "\n",
    "* Create a summary data frame to hold the results\n",
    "\n",
    "\n",
    "* Optional: give the displayed data cleaner formatting\n",
    "\n",
    "\n",
    "* Display the summary data frame"
   ]
  },
  {
   "cell_type": "code",
   "execution_count": 138,
   "metadata": {},
   "outputs": [
    {
     "output_type": "execute_result",
     "data": {
      "text/plain": [
       "            Purchase Count Average Purchase Price Total Purchase Value  \\\n",
       "Age Ranges                                                               \n",
       "<10                     23                  $3.35               $77.13   \n",
       "10-14                   28                  $2.96               $82.78   \n",
       "15-19                  136                  $3.04              $412.89   \n",
       "20-24                  365                  $3.05            $1,114.06   \n",
       "25-29                  101                  $2.90              $293.00   \n",
       "30-34                   73                  $2.93              $214.00   \n",
       "35-39                   41                  $3.60              $147.67   \n",
       "40+                     13                  $2.94               $38.24   \n",
       "\n",
       "           Avg Total Purchase per Person  \n",
       "Age Ranges                                \n",
       "<10                                $4.54  \n",
       "10-14                              $3.76  \n",
       "15-19                              $3.86  \n",
       "20-24                              $4.32  \n",
       "25-29                              $3.81  \n",
       "30-34                              $4.12  \n",
       "35-39                              $4.76  \n",
       "40+                                $3.19  "
      ],
      "text/html": "<div>\n<style scoped>\n    .dataframe tbody tr th:only-of-type {\n        vertical-align: middle;\n    }\n\n    .dataframe tbody tr th {\n        vertical-align: top;\n    }\n\n    .dataframe thead th {\n        text-align: right;\n    }\n</style>\n<table border=\"1\" class=\"dataframe\">\n  <thead>\n    <tr style=\"text-align: right;\">\n      <th></th>\n      <th>Purchase Count</th>\n      <th>Average Purchase Price</th>\n      <th>Total Purchase Value</th>\n      <th>Avg Total Purchase per Person</th>\n    </tr>\n    <tr>\n      <th>Age Ranges</th>\n      <th></th>\n      <th></th>\n      <th></th>\n      <th></th>\n    </tr>\n  </thead>\n  <tbody>\n    <tr>\n      <th>&lt;10</th>\n      <td>23</td>\n      <td>$3.35</td>\n      <td>$77.13</td>\n      <td>$4.54</td>\n    </tr>\n    <tr>\n      <th>10-14</th>\n      <td>28</td>\n      <td>$2.96</td>\n      <td>$82.78</td>\n      <td>$3.76</td>\n    </tr>\n    <tr>\n      <th>15-19</th>\n      <td>136</td>\n      <td>$3.04</td>\n      <td>$412.89</td>\n      <td>$3.86</td>\n    </tr>\n    <tr>\n      <th>20-24</th>\n      <td>365</td>\n      <td>$3.05</td>\n      <td>$1,114.06</td>\n      <td>$4.32</td>\n    </tr>\n    <tr>\n      <th>25-29</th>\n      <td>101</td>\n      <td>$2.90</td>\n      <td>$293.00</td>\n      <td>$3.81</td>\n    </tr>\n    <tr>\n      <th>30-34</th>\n      <td>73</td>\n      <td>$2.93</td>\n      <td>$214.00</td>\n      <td>$4.12</td>\n    </tr>\n    <tr>\n      <th>35-39</th>\n      <td>41</td>\n      <td>$3.60</td>\n      <td>$147.67</td>\n      <td>$4.76</td>\n    </tr>\n    <tr>\n      <th>40+</th>\n      <td>13</td>\n      <td>$2.94</td>\n      <td>$38.24</td>\n      <td>$3.19</td>\n    </tr>\n  </tbody>\n</table>\n</div>"
     },
     "metadata": {},
     "execution_count": 138
    }
   ],
   "source": [
    "import pandas as pd\n",
    "bins = [0, 9, 14, 19, 24, 29, 34, 39, 49]\n",
    "\n",
    "group_labels = [\"<10\", \"10-14\", \"15-19\", \"20-24\", \"25-29\", \"30-34\", \"35-39\", \"40+\"]\n",
    "\n",
    "bin_purchase_data = purchase_data\n",
    "\n",
    "bin_purchase_data[\"Age Group\"] = pd.cut(purchase_data[\"Age\"], bins, labels=group_labels)\n",
    "\n",
    "purchase_count2 = []\n",
    "average_purchase_price2 = []\n",
    "total_purchase_value2 = []\n",
    "ppp_array = []\n",
    "i = 0\n",
    "\n",
    "for x in group_labels:\n",
    "    age_df = bin_purchase_data.loc[bin_purchase_data[\"Age Group\"] == x]\n",
    "    age_amount = len(age_df[\"SN\"])\n",
    "\n",
    "    age_price = sum(age_df[\"Price\"].to_numpy())\n",
    "    average = age_price/age_amount\n",
    "    ppp = age_price/total_count_bin[i]\n",
    "\n",
    "    purchase_count2.append(age_amount)\n",
    "    average_purchase_price2.append(average)\n",
    "    total_purchase_value2.append(age_price)\n",
    "    ppp_array.append(ppp)\n",
    "    i += 1\n",
    "    \n",
    "purchasing_analysis_data = {'Purchase Count': (purchase_count2),\n",
    "'Average Purchase Price': (average_purchase_price2),\n",
    "'Total Purchase Value': (total_purchase_value2),\n",
    "'Avg Total Purchase per Person': (ppp_array)}\n",
    "\n",
    "purchasing_analysis_summary = pd.DataFrame(purchasing_analysis_data)\n",
    "\n",
    "purchasing_analysis_summary = purchasing_analysis_summary.rename(index={0: \"<10\", 1: \"10-14\", 2: \"15-19\", 3: \"20-24\", 4: \"25-29\", 5: \"30-34\", 6: \"35-39\", 7: \"40+\" })\n",
    "\n",
    "purchasing_analysis_summary = purchasing_analysis_summary.rename_axis('Age Ranges')\n",
    "\n",
    "purchasing_analysis_summary[\"Average Purchase Price\"] = purchasing_analysis_summary[\"Average Purchase Price\"].astype(float).map(\"${:,.2f}\".format)\n",
    "purchasing_analysis_summary[\"Total Purchase Value\"] = purchasing_analysis_summary[\"Total Purchase Value\"].astype(float).map(\"${:,.2f}\".format)\n",
    "purchasing_analysis_summary[\"Avg Total Purchase per Person\"] = purchasing_analysis_summary[\"Avg Total Purchase per Person\"].astype(float).map(\"${:,.2f}\".format)\n",
    "\n",
    "purchasing_analysis_summary\n",
    "\n",
    "\n",
    "\n"
   ]
  },
  {
   "cell_type": "markdown",
   "metadata": {},
   "source": [
    "## Top Spenders"
   ]
  },
  {
   "cell_type": "markdown",
   "metadata": {},
   "source": [
    "* Run basic calculations to obtain the results in the table below\n",
    "\n",
    "\n",
    "* Create a summary data frame to hold the results\n",
    "\n",
    "\n",
    "* Sort the total purchase value column in descending order\n",
    "\n",
    "\n",
    "* Optional: give the displayed data cleaner formatting\n",
    "\n",
    "\n",
    "* Display a preview of the summary data frame\n",
    "\n"
   ]
  },
  {
   "cell_type": "code",
   "execution_count": 213,
   "metadata": {
    "tags": []
   },
   "outputs": [
    {
     "output_type": "stream",
     "name": "stdout",
     "text": [
      "['Lisosia93', 'Idastidru52', 'Chamjask73', 'Iral74', 'Iskadarya95']\n[5, 4, 3, 4, 3]\n[18.96, 15.45, 13.83, 13.619999999999997, 13.1]\n[3.7920000000000003, 3.8625, 4.61, 3.4049999999999994, 4.366666666666666]\n"
     ]
    }
   ],
   "source": [
    "new_dict = {}\n",
    "for index, rows in purchase_data.iterrows():\n",
    "    if rows['SN'] not in new_dict.keys():\n",
    "        new_dict[rows['SN']] = (rows['Price'], 1)\n",
    "    else:\n",
    "        count = new_dict[rows['SN']][1] + 1\n",
    "        total_val = new_dict[rows['SN']][0] + rows['Price']\n",
    "        new_dict[rows['SN']] = (total_val, count)\n",
    "\n",
    "dictionary = sorted(new_dict.items(), key=lambda item: item[1], reverse = True)\n",
    "sn_list = []\n",
    "purchase_count = []\n",
    "total_price = []\n",
    "average_price = []\n",
    "\n",
    "for x in range(0,5):\n",
    "    sn_list.append(dictionary[x][0])\n",
    "    purchase_count.append(dictionary[x][1][1])\n",
    "    total_price.append(dictionary[x][1][0])\n",
    "    average_price.append(dictionary[x][1][0]/dictionary[x][1][1])\n",
    "\n",
    "print(sn_list)\n",
    "print(purchase_count)\n",
    "print(total_price)\n",
    "print(average_price)\n"
   ]
  },
  {
   "cell_type": "markdown",
   "metadata": {},
   "source": [
    "## Most Popular Items"
   ]
  },
  {
   "cell_type": "markdown",
   "metadata": {},
   "source": [
    "* Retrieve the Item ID, Item Name, and Item Price columns\n",
    "\n",
    "\n",
    "* Group by Item ID and Item Name. Perform calculations to obtain purchase count, average item price, and total purchase value\n",
    "\n",
    "\n",
    "* Create a summary data frame to hold the results\n",
    "\n",
    "\n",
    "* Sort the purchase count column in descending order\n",
    "\n",
    "\n",
    "* Optional: give the displayed data cleaner formatting\n",
    "\n",
    "\n",
    "* Display a preview of the summary data frame\n",
    "\n"
   ]
  },
  {
   "cell_type": "code",
   "execution_count": 234,
   "metadata": {},
   "outputs": [
    {
     "output_type": "stream",
     "name": "stdout",
     "text": [
      "[92, 178, 108, 82, 132]\n[13, 12, 9, 9, 9]\n[59.99, 50.76000000000002, 31.770000000000003, 44.099999999999994, 28.990000000000002]\n[4.614615384615385, 4.230000000000001, 3.5300000000000002, 4.8999999999999995, 3.2211111111111115]\n['Final Critic', 'Oathbreaker, Last Hope of the Breaking Storm', 'Extraction, Quickblade Of Trembling Hands', 'Nirvana', 'Persuasion']\n"
     ]
    }
   ],
   "source": [
    "new_df = purchase_data[['Item ID', 'Item Name', 'Price']]\n",
    "\n",
    "new_dict = {}\n",
    "for index, rows in new_df.iterrows():\n",
    "    if rows['Item ID'] not in new_dict.keys():\n",
    "        new_dict[rows['Item ID']] = (rows['Price'], 1, rows['Item Name'])\n",
    "    else:\n",
    "        count = new_dict[rows['Item ID']][1] + 1\n",
    "        total_val = new_dict[rows['Item ID']][0] + rows['Price']\n",
    "        new_dict[rows['Item ID']] = (total_val, count,rows['Item Name'])\n",
    "\n",
    "\n",
    "\n",
    "dictionary = sorted(new_dict.items(), key=lambda item: item[1][1], reverse = True)\n",
    "#print(dictionary)\n",
    "\n",
    "id_list = []\n",
    "purchase_count = []\n",
    "total_price = []\n",
    "average_price = []\n",
    "item_name = []\n",
    "\n",
    "for x in range(0,5):\n",
    "    id_list.append(dictionary[x][0])\n",
    "    purchase_count.append(dictionary[x][1][1])\n",
    "    total_price.append(dictionary[x][1][0])\n",
    "    average_price.append(dictionary[x][1][0]/dictionary[x][1][1])\n",
    "    item_name.append(dictionary[x][1][2])\n",
    "\n",
    "print(id_list)\n",
    "print(purchase_count)\n",
    "print(total_price)\n",
    "print(average_price)\n",
    "print(item_name)\n"
   ]
  },
  {
   "cell_type": "markdown",
   "metadata": {},
   "source": [
    "## Most Profitable Items"
   ]
  },
  {
   "cell_type": "markdown",
   "metadata": {},
   "source": [
    "* Sort the above table by total purchase value in descending order\n",
    "\n",
    "\n",
    "* Optional: give the displayed data cleaner formatting\n",
    "\n",
    "\n",
    "* Display a preview of the data frame\n",
    "\n"
   ]
  },
  {
   "cell_type": "code",
   "execution_count": 237,
   "metadata": {
    "scrolled": true
   },
   "outputs": [
    {
     "output_type": "stream",
     "name": "stdout",
     "text": [
      "[(92, (59.99, 13, 'Final Critic')), (178, (50.76000000000002, 12, 'Oathbreaker, Last Hope of the Breaking Storm')), (82, (44.099999999999994, 9, 'Nirvana')), (145, (41.21999999999999, 9, 'Fiery Glass Crusader')), (103, (34.800000000000004, 8, 'Singed Scalpel')), (59, (33.84, 8, 'Lightning, Etcher of the King')), (108, (31.770000000000003, 9, 'Extraction, Quickblade Of Trembling Hands')), (78, (30.799999999999997, 7, 'Glimmer, Ender of the Moon')), (72, (30.16, 8, \"Winter's Bite\")), (132, (28.990000000000002, 9, 'Persuasion')), (60, (28.319999999999997, 8, 'Wolf')), (179, (26.880000000000003, 6, 'Wolf, Promise of the Moonwalker')), (160, (26.4, 6, 'Azurewrath')), (25, (26.1, 6, 'Hero Cane')), (37, (25.28, 8, 'Shadow Strike, Glory of Ending Hope')), (139, (24.700000000000003, 5, 'Mercy, Katana of Dismay')), (128, (24.55, 5, 'Blazeguard, Reach of Eternity')), (138, (23.700000000000003, 5, 'Peacekeeper, Wit of Dark Magic')), (87, (22.15, 5, 'Deluge, Edge of the West')), (159, (21.560000000000002, 7, 'Oathbreaker, Spellblade of Trials')), (136, (21.479999999999997, 6, 'Ghastly Adamantite Protector')), (65, (21.200000000000003, 5, 'Conqueror Adamantite Mace')), (102, (20.64, 6, 'Avenger')), (133, (20.45, 5, \"Faith's Scimitar\")), (39, (19.7, 5, 'Betrayal, Whisper of Grieving Widows')), (111, (19.56, 4, \"Misery's End\")), (165, (19.44, 4, 'Bone Crushing Silver Skewer')), (75, (19.36, 8, 'Brutality Ivory Warmace')), (52, (19.36, 4, 'Hatred')), (157, (19.2, 4, 'Spada, Etcher of Hatred')), (114, (19.099999999999998, 5, 'Yearning Mageblade')), (24, (19.05, 5, 'Warped Fetish')), (88, (18.75, 5, 'Emberling, Defender of Delusions')), (96, (18.54, 6, 'Blood-Forged Skeletal Spine')), (120, (18.48, 6, 'Agatha')), (57, (18.4, 4, 'Despair, Favor of Due Diligence')), (50, (18.4, 4, 'Dawn')), (11, (18.25, 5, 'Brimstone')), (34, (17.76, 8, 'Retribution Axe')), (154, (17.6, 4, 'Feral Katana')), (66, (17.6, 4, 'Victor Iron Spikes')), (68, (17.28, 4, 'Storm-Weaver, Slayer of Inception')), (163, (17.25, 5, 'Thunderfury Scimitar')), (35, (17.25, 5, 'Heartless Bone Dualblade')), (80, (16.95, 5, 'Dreamsong')), (137, (16.95, 5, 'Aetherius, Boon of the Blessed')), (116, (16.72, 4, 'Renewed Skeletal Katana')), (58, (16.56, 4, \"Freak's Bite, Favor of Holy Might\")), (100, (16.35, 5, 'Blindscythe')), (20, (16.35, 5, 'Netherbane')), (5, (16.32, 4, 'Putrid Fan')), (113, (16.28, 4, \"Solitude's Reaver\")), (77, (16.0, 4, 'Piety, Guardian of Riddles')), (170, (15.88, 4, 'Shadowsteel')), (146, (15.5, 5, 'Warped Iron Scimitar')), (45, (15.4, 4, 'Glinting Glass Edge')), (40, (15.12, 6, 'Second Chance')), (54, (15.0, 6, 'Eternal Cleaver')), (153, (14.96, 4, 'Mercenary Sabre')), (3, (14.940000000000001, 6, 'Phantomlight')), (2, (14.88, 6, 'Verdict')), (15, (14.8, 5, 'Soul Infused Crystal')), (147, (14.79, 3, 'Hellreaver, Heirloom of Inception')), (140, (14.7, 5, 'Striker')), (64, (14.46, 3, 'Fusion Pummel')), (98, (14.450000000000001, 5, 'Deadline, Voice Of Subtlety')), (167, (14.44, 4, 'Malice, Legacy of the Queen')), (53, (14.350000000000001, 7, 'Vengeance Cleaver')), (109, (14.28, 3, 'Downfall, Scalpel Of The Emperor')), (41, (14.25, 3, 'Orbit')), (150, (14.25, 5, 'Deathraze')), (95, (14.22, 3, 'Singed Onyx Warscythe')), (16, (14.2, 4, 'Restored Bauble')), (94, (13.96, 4, 'Mourning Blade')), (89, (13.919999999999998, 3, 'Blazefury, Protector of Delusions')), (174, (13.88, 4, 'Primitive Blade')), (67, (13.84, 4, 'Celeste, Incarnation of the Corrupted')), (175, (13.440000000000001, 3, 'Woeful Adamantite Claymore')), (162, (13.35, 5, 'Abyssal Shard')), (83, (13.32, 4, 'Lifebender')), (22, (13.08, 6, 'Amnesia')), (119, (12.96, 3, 'Stormbringer, Dark Blade of Ending Misery')), (76, (12.6, 4, 'Haunted Bronzed Bludgeon')), (172, (12.56, 4, 'Blade of the Grave')), (74, (12.54, 3, 'Yearning Crusher')), (117, (12.529999999999998, 7, 'Heartstriker, Legacy of the Light')), (85, (12.25, 7, 'Malificent Bag')), (79, (12.149999999999999, 3, 'Alpha, Oath of Zeal')), (105, (12.12, 4, 'Hailstorm Shadowsteel Scythe')), (148, (12.09, 3, \"Warmonger, Gift of Suffering's End\")), (182, (12.09, 3, 'Toothpick')), (44, (11.899999999999999, 5, 'Bonecarvin Battle Axe')), (93, (11.82, 6, 'Apocalyptic Battlescythe')), (8, (11.790000000000001, 3, 'Purgatory, Gem of Regret')), (1, (11.77, 4, 'Crucifer')), (144, (11.639999999999999, 6, 'Blood Infused Guardian')), (61, (11.61, 3, 'Ragnarok')), (164, (11.409999999999997, 7, 'Exiled Doomblade')), (84, (11.370000000000001, 3, 'Arcane Gem')), (71, (11.27, 7, 'Demise')), (9, (10.92, 4, 'Thorn, Conqueror of the Corrupted')), (112, (10.4, 4, 'Worldbreaker')), (73, (10.25, 5, 'Ritual Mace')), (106, (10.23, 3, 'Crying Steel Sickle')), (151, (10.2, 3, 'Severance')), (110, (10.079999999999998, 7, 'Suspension')), (63, (9.98, 2, 'Stormfury Mace')), (29, (9.9, 5, 'Chaos, Ender of the End')), (173, (9.86, 2, 'Stormfury Longsword')), (38, (9.48, 4, 'The Void, Vengeance of Dark Magic')), (143, (9.360000000000001, 6, 'Frenzied Scimitar')), (7, (9.31, 7, 'Thorn, Satchel of Dark Souls')), (18, (9.3, 2, 'Torchlight, Bond of Storms')), (129, (9.24, 6, 'Fate, Vengeance of Eternal Justice')), (166, (9.209999999999999, 3, 'Thirsty Iron Reaver')), (123, (9.12, 4, \"Twilight's Carver\")), (49, (8.879999999999999, 3, 'The Oculus, Token of Lost Worlds')), (156, (8.85, 5, 'Soul-Forged Steel Shortsword')), (161, (8.8, 5, 'Devine')), (149, (8.75, 5, 'Tranquility, Razor of Black Magic')), (169, (8.72, 4, 'Interrogator, Blood Blade of the Queen')), (107, (8.72, 4, 'Splitter, Foe Of Subtlety')), (122, (8.55, 3, 'Unending Tyranny')), (4, (8.5, 5, \"Bloodlord's Fetish\")), (181, (8.299999999999999, 5, \"Reaper's Toll\")), (19, (8.159999999999998, 8, 'Pursuit, Cudgel of Necromancy')), (142, (7.86, 3, 'Righteous Might')), (127, (7.84, 2, 'Heartseeker, Reaver of Souls')), (30, (7.779999999999999, 3, 'Stormcaller')), (97, (7.5, 3, 'Swan Song, Gouger Of Terror')), (6, (7.4, 2, 'Rusty Skull')), (81, (7.22, 2, 'Dreamkiss')), (131, (7.199999999999999, 5, 'Fury')), (10, (7.16, 4, 'Sleepwalker')), (43, (7.08, 2, 'Foul Edge')), (152, (6.96, 4, 'Darkheart')), (99, (6.84, 4, 'Expiration, Warscythe Of Lost Worlds')), (86, (6.8100000000000005, 3, 'Stormfury Lantern')), (55, (6.8100000000000005, 3, 'Vindictive Glass Edge')), (17, (6.8, 4, 'Lazarus, Terror of the Earth')), (46, (6.65, 5, 'Hopeless Ebon Dualblade')), (121, (6.4, 4, 'Massacre')), (130, (6.209999999999999, 3, 'Alpha')), (12, (6.119999999999999, 6, 'Dawne')), (56, (5.84, 2, 'Foul Titanium Battle Axe')), (32, (5.699999999999999, 5, 'Orenmir')), (176, (5.68, 2, 'Relentless Iron Skewer')), (13, (5.64, 4, 'Serenity')), (62, (5.61, 3, 'Piece Maker')), (21, (5.5, 5, 'Souleater')), (171, (5.37, 3, 'Scalpel')), (14, (5.22, 2, 'Possessed Core')), (124, (5.16, 4, 'Venom Claymore')), (0, (5.12, 4, 'Splinter')), (155, (5.05, 5, 'War-Forged Gold Deflector')), (48, (4.96, 2, 'Rage, Legacy of the Lone Victor')), (158, (4.9, 2, 'Darkheart, Butcher of the Champion')), (51, (4.66, 1, 'Endbringer')), (134, (4.5, 1, 'Undead Crusader')), (135, (4.199999999999999, 3, 'Warped Diamond Crusader')), (91, (4.17, 1, 'Celeste')), (177, (4.16, 2, 'Winterthorn, Defender of Shifting Worlds')), (70, (4.12, 4, \"Hope's End\")), (115, (4.08, 2, 'Spectral Diamond Doomblade')), (69, (3.96, 2, 'Frenzy, Defender of the Harvest')), (47, (3.58, 1, 'Alpha, Reach of Ending Hope')), (27, (3.3, 1, 'Riddle, Tribute of Ended Dreams')), (183, (3.2700000000000005, 3, \"Dragon's Greatsword\")), (31, (3.1, 2, 'Trickster')), (168, (2.96, 2, 'Sun Strike, Jaws of Twisted Visions')), (90, (2.94, 1, 'Betrayer')), (33, (2.32, 2, 'Curved Axe')), (26, (2.24, 2, 'Unholy Wand')), (118, (2.17, 1, 'Ghost Reaver, Longsword of Magic')), (28, (2.12, 2, 'Flux, Destroyer of Due Diligence')), (125, (2.0, 2, 'Whistling Mithril Warblade')), (126, (2.0, 1, 'Exiled Mithril Longsword')), (104, (1.93, 1, \"Gladiator's Glaive\")), (42, (1.75, 1, 'The Decapitator'))]\n"
     ]
    }
   ],
   "source": [
    "new_dict = {}\n",
    "for index, rows in purchase_data.iterrows():\n",
    "    if rows['Item ID'] not in new_dict.keys():\n",
    "        new_dict[rows['Item ID']] = (rows['Price'], 1, rows['Item Name'])\n",
    "    else:\n",
    "        count = new_dict[rows['Item ID']][1] + 1\n",
    "        total_val = new_dict[rows['Item ID']][0] + rows['Price']\n",
    "        new_dict[rows['Item ID']] = (total_val, count,rows['Item Name'])\n",
    "\n",
    "\n",
    "\n",
    "dictionary = sorted(new_dict.items(), key=lambda item: item[1][0], reverse = True)\n",
    "print(dictionary)\n",
    "\n",
    "id_list = []\n",
    "purchase_count = []\n",
    "total_price = []\n",
    "average_price = []\n",
    "item_name = []\n",
    "\n",
    "for x in range(0,5):\n",
    "    id_list.append(dictionary[x][0])\n",
    "    purchase_count.append(dictionary[x][1][1])\n",
    "    total_price.append(dictionary[x][1][0])\n",
    "    average_price.append(dictionary[x][1][0]/dictionary[x][1][1])\n",
    "    item_name.append(dictionary[x][1][2])\n",
    "\n",
    "print(id_list)\n",
    "print(purchase_count)\n",
    "print(total_price)\n",
    "print(average_price)\n",
    "print(item_name)\n"
   ]
  },
  {
   "cell_type": "code",
   "execution_count": null,
   "metadata": {},
   "outputs": [],
   "source": []
  }
 ],
 "metadata": {
  "anaconda-cloud": {},
  "kernel_info": {
   "name": "python3"
  },
  "kernelspec": {
   "name": "python385jvsc74a57bd08fac594bfae6525c0c41b4041d2d72effa188cc8ead05f81b1fab2bb098927fb",
   "display_name": "Python 3.8.5 64-bit ('base': conda)"
  },
  "language_info": {
   "codemirror_mode": {
    "name": "ipython",
    "version": 3
   },
   "file_extension": ".py",
   "mimetype": "text/x-python",
   "name": "python",
   "nbconvert_exporter": "python",
   "pygments_lexer": "ipython3",
   "version": "3.8.5"
  },
  "latex_envs": {
   "LaTeX_envs_menu_present": true,
   "autoclose": false,
   "autocomplete": true,
   "bibliofile": "biblio.bib",
   "cite_by": "apalike",
   "current_citInitial": 1,
   "eqLabelWithNumbers": true,
   "eqNumInitial": 1,
   "hotkeys": {
    "equation": "Ctrl-E",
    "itemize": "Ctrl-I"
   },
   "labels_anchors": false,
   "latex_user_defs": false,
   "report_style_numbering": false,
   "user_envs_cfg": false
  },
  "nteract": {
   "version": "0.2.0"
  }
 },
 "nbformat": 4,
 "nbformat_minor": 2
}